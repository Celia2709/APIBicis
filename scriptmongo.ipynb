{
 "cells": [
  {
   "cell_type": "code",
   "execution_count": 8,
   "metadata": {},
   "outputs": [],
   "source": [
    "#imports necesarios\n",
    "import requests\n",
    "import time\n",
    "from pymongo import MongoClient"
   ]
  },
  {
   "cell_type": "code",
   "execution_count": 9,
   "metadata": {},
   "outputs": [],
   "source": [
    "#conexion a mongodb\n",
    "MONGO_URI = \"mongodb://172.17.0.2:27017/\" \n",
    "#Configuracoin da base de datos\n",
    "DB_NAME = \"citybikes_db\"\n",
    "COLLECTION_NAME = \"stations\""
   ]
  },
  {
   "cell_type": "code",
   "execution_count": 10,
   "metadata": {},
   "outputs": [],
   "source": [
    "#conexion coa api\n",
    "API_URL = \"https://api.citybik.es/v2/networks\"\n",
    "\n",
    "INTERVAL = 300 #5 minutos"
   ]
  },
  {
   "cell_type": "code",
   "execution_count": 11,
   "metadata": {},
   "outputs": [
    {
     "name": "stdout",
     "output_type": "stream",
     "text": [
      "Conexión con MongoDB feita\n",
      "Datos almacenados en Mongo.\n",
      "Execución parada polo usuario.\n",
      "Fin.\n"
     ]
    }
   ],
   "source": [
    "def conectar_mongodb(): #conexion coa bd\n",
    "    try:\n",
    "        cliente = MongoClient(MONGO_URI)\n",
    "        db = cliente[DB_NAME]\n",
    "        print(\"Conexión con MongoDB feita\")\n",
    "        return db[COLLECTION_NAME]\n",
    "    except Exception as e:\n",
    "        print(f\"Problema ao conectar con MongoDB: {e}\")\n",
    "        raise\n",
    "\n",
    "def obter_datos_api(): #obtemos  os datos da api\n",
    "    try:\n",
    "        resposta = requests.get(API_URL)\n",
    "        resposta.raise_for_status()\n",
    "        return resposta.json()\n",
    "    except requests.exceptions.RequestException as e:\n",
    "        print(f\"Problema ao obter datos da API: {e}\")\n",
    "        return None\n",
    "    \n",
    "def almacenar_datos_mongodb(coleccion, datos): #almaceamos os datos obtidos\n",
    "    if datos:\n",
    "        datos['timestamp'] = time.time() #para ver cando se gardaron os datos\n",
    "        coleccion.insert_one(datos)\n",
    "        print(\"Datos almacenados en Mongo.\")\n",
    "    else:\n",
    "        print(\"Non hai datos.\")\n",
    "\n",
    "\n",
    "def executar(): #fai o bucle para a obtencion dos datos e o seu almaceamento\n",
    "    coleccion = conectar_mongodb()\n",
    "\n",
    "    try:\n",
    "        while True:\n",
    "            datos = obter_datos_api()\n",
    "            almacenar_datos_mongodb(coleccion, datos)\n",
    "            time.sleep(INTERVAL)\n",
    "    except KeyboardInterrupt:\n",
    "        print(\"Execución parada polo usuario.\")\n",
    "    finally:\n",
    "        print(\"Fin.\")\n",
    "\n",
    "#para evitar execucions non desexadas:\n",
    "if __name__ == \"__main__\":\n",
    "    executar()\n"
   ]
  }
 ],
 "metadata": {
  "kernelspec": {
   "display_name": "bicis",
   "language": "python",
   "name": "python3"
  },
  "language_info": {
   "codemirror_mode": {
    "name": "ipython",
    "version": 3
   },
   "file_extension": ".py",
   "mimetype": "text/x-python",
   "name": "python",
   "nbconvert_exporter": "python",
   "pygments_lexer": "ipython3",
   "version": "3.13.1"
  }
 },
 "nbformat": 4,
 "nbformat_minor": 2
}
